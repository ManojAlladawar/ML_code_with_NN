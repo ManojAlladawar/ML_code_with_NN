{
 "cells": [
  {
   "cell_type": "code",
   "execution_count": null,
   "id": "bba1c301",
   "metadata": {},
   "outputs": [],
   "source": [
    "from keras.layers import Dense\n",
    "model = Sequential()\n",
    "model.add(\n",
    "   Dense(\n",
    "     units = 1,\n",
    "       activation_function = 'linear',\n",
    "       kernel_initializer = 'Zeroes',\n",
    "       bias_initializer = 'zeroes'\n",
    "   )\n",
    ")\n",
    "\n",
    "model.compile(loss=\"mean_squared_error\",optimizer=\"Adam\")\n",
    "model.summary()\n",
    "model.get_weights()\n",
    "model.fit(X,y)\n",
    "model.predict([])\n",
    "model.save('first.h5')"
   ]
  }
 ],
 "metadata": {
  "kernelspec": {
   "display_name": "Python 3 (ipykernel)",
   "language": "python",
   "name": "python3"
  },
  "language_info": {
   "codemirror_mode": {
    "name": "ipython",
    "version": 3
   },
   "file_extension": ".py",
   "mimetype": "text/x-python",
   "name": "python",
   "nbconvert_exporter": "python",
   "pygments_lexer": "ipython3",
   "version": "3.9.7"
  }
 },
 "nbformat": 4,
 "nbformat_minor": 5
}
