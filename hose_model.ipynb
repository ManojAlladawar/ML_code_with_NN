{
 "cells": [
  {
   "cell_type": "code",
   "execution_count": 2,
   "id": "23d98efa",
   "metadata": {},
   "outputs": [],
   "source": [
    "import joblib"
   ]
  },
  {
   "cell_type": "code",
   "execution_count": 3,
   "id": "822f90f7",
   "metadata": {},
   "outputs": [
    {
     "data": {
      "text/plain": [
       "LinearRegression()"
      ]
     },
     "execution_count": 3,
     "metadata": {},
     "output_type": "execute_result"
    }
   ],
   "source": [
    "joblib.load('house_data.xyz')"
   ]
  },
  {
   "cell_type": "code",
   "execution_count": null,
   "id": "eadcc797",
   "metadata": {},
   "outputs": [],
   "source": [
    "print(\"enter the lotsize:    \")\n",
    "lotsize = int(input())\n",
    "model.predict(lotsize)"
   ]
  },
  {
   "cell_type": "code",
   "execution_count": null,
   "id": "615449c6",
   "metadata": {},
   "outputs": [],
   "source": []
  }
 ],
 "metadata": {
  "kernelspec": {
   "display_name": "Python 3 (ipykernel)",
   "language": "python",
   "name": "python3"
  },
  "language_info": {
   "codemirror_mode": {
    "name": "ipython",
    "version": 3
   },
   "file_extension": ".py",
   "mimetype": "text/x-python",
   "name": "python",
   "nbconvert_exporter": "python",
   "pygments_lexer": "ipython3",
   "version": "3.9.7"
  }
 },
 "nbformat": 4,
 "nbformat_minor": 5
}
