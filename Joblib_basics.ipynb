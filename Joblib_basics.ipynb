{
 "cells": [
  {
   "cell_type": "code",
   "execution_count": 1,
   "id": "9e38e9c7",
   "metadata": {},
   "outputs": [
    {
     "name": "stdout",
     "output_type": "stream",
     "text": [
      "\n",
      "The function took 20.15 s to compute.\n",
      "[1, 4, 9, 16, 25, 36, 49, 64, 81, 100, 121, 144, 169, 196, 225, 256, 289, 324, 361, 400]\n"
     ]
    }
   ],
   "source": [
    "import time\n",
    "import numpy as np\n",
    "\n",
    "result = []\n",
    "\n",
    "# Getting the square of the number:\n",
    "def square_number(no):\n",
    "    return (no*no)\n",
    "\n",
    "# Function to compute square of a range of a number:\n",
    "def get_square_range(start_no, end_no):\n",
    "    for i in np.arange(start_no, end_no):\n",
    "        time.sleep(1)\n",
    "        result.append(square_number(i))\n",
    "    return result\n",
    "\n",
    "# def get_square_range(start_no, end_no):\n",
    "#     for i in np.arange(start_no,end_no):\n",
    "#         time.sleep(1)\n",
    "#         result.append(square_number(i))\n",
    "#     return result\n",
    "start = time.time()\n",
    "# Getting square of 1 to 20:\n",
    "final_result = get_square_range(1, 21)\n",
    "end = time.time()\n",
    "\n",
    "# Total time to compute\n",
    "print('\\nThe function took {:.2f} s to compute.'.format(end - start))\n",
    "print(final_result)"
   ]
  },
  {
   "cell_type": "code",
   "execution_count": null,
   "id": "148f0111",
   "metadata": {},
   "outputs": [],
   "source": [
    "start = time.time()\n",
    "\n",
    "# File\n",
    "pickle_file = '/train_features.pkl'\n",
    "\n",
    "# Dumping the file in the normal format\n",
    "with open(path + pickle_file, 'wb') as f:\n",
    "    dump(data, f)\n",
    "    \n",
    "simple_pickle_duration = time.time() - start\n",
    "\n",
    "# total time taken to dump\n",
    "print(\"Raw dump duration: %0.3fs\" % simple_pickle_duration)"
   ]
  },
  {
   "cell_type": "code",
   "execution_count": null,
   "id": "4d09071f",
   "metadata": {},
   "outputs": [],
   "source": [
    "#zlib compression\n",
    "start = time.time()\n",
    "\n",
    "# File\n",
    "joblib_file = '/train_features.joblib'\n",
    "\n",
    "# Dumping the file in the zlib compression format\n",
    "with open(path + joblib_file, 'wb') as f:\n",
    "    dump(data, f, compress='zlib')\n",
    "\n",
    "simple_joblib_duration = time.time() - start\n",
    "\n",
    "# Total time taken to dump\n",
    "print(\"Zlib dump duration: %0.3fs\" % simple_joblib_duration)"
   ]
  }
 ],
 "metadata": {
  "kernelspec": {
   "display_name": "Python 3 (ipykernel)",
   "language": "python",
   "name": "python3"
  },
  "language_info": {
   "codemirror_mode": {
    "name": "ipython",
    "version": 3
   },
   "file_extension": ".py",
   "mimetype": "text/x-python",
   "name": "python",
   "nbconvert_exporter": "python",
   "pygments_lexer": "ipython3",
   "version": "3.9.7"
  }
 },
 "nbformat": 4,
 "nbformat_minor": 5
}
