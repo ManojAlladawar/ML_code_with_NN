{
 "cells": [
  {
   "cell_type": "code",
   "execution_count": 2,
   "id": "8f72abbd",
   "metadata": {},
   "outputs": [],
   "source": [
    "import cv2"
   ]
  },
  {
   "cell_type": "code",
   "execution_count": 3,
   "id": "920a5d04",
   "metadata": {},
   "outputs": [],
   "source": [
    "cap = cv2.VideoCapture(0)"
   ]
  },
  {
   "cell_type": "code",
   "execution_count": 4,
   "id": "53345f2a",
   "metadata": {},
   "outputs": [],
   "source": [
    "ret, photo = cap.read()"
   ]
  },
  {
   "cell_type": "code",
   "execution_count": 5,
   "id": "50ad77a7",
   "metadata": {},
   "outputs": [],
   "source": [
    "cap.release()"
   ]
  },
  {
   "cell_type": "code",
   "execution_count": 6,
   "id": "55a4baa9",
   "metadata": {},
   "outputs": [
    {
     "data": {
      "text/plain": [
       "array([[[  3,  37,  53],\n",
       "        [ 20,  53,  69],\n",
       "        [ 35,  67,  83],\n",
       "        ...,\n",
       "        [ 51,  70,  78],\n",
       "        [ 48,  67,  75],\n",
       "        [ 51,  70,  78]],\n",
       "\n",
       "       [[ 41,  73,  85],\n",
       "        [ 21,  53,  65],\n",
       "        [ 27,  58,  71],\n",
       "        ...,\n",
       "        [ 55,  74,  82],\n",
       "        [ 54,  73,  81],\n",
       "        [ 57,  76,  84]],\n",
       "\n",
       "       [[ 91, 119, 124],\n",
       "        [ 34,  62,  67],\n",
       "        [ 31,  57,  63],\n",
       "        ...,\n",
       "        [ 58,  77,  85],\n",
       "        [ 57,  76,  84],\n",
       "        [ 59,  78,  86]],\n",
       "\n",
       "       ...,\n",
       "\n",
       "       [[ 64,  73,  90],\n",
       "        [ 64,  73,  91],\n",
       "        [ 64,  72,  91],\n",
       "        ...,\n",
       "        [ 70,  57,  62],\n",
       "        [ 85,  72,  77],\n",
       "        [160, 146, 151]],\n",
       "\n",
       "       [[ 63,  72,  92],\n",
       "        [ 63,  72,  92],\n",
       "        [ 63,  73,  93],\n",
       "        ...,\n",
       "        [ 70,  57,  62],\n",
       "        [ 78,  65,  70],\n",
       "        [146, 132, 137]],\n",
       "\n",
       "       [[ 62,  71,  92],\n",
       "        [ 61,  71,  92],\n",
       "        [ 61,  72,  93],\n",
       "        ...,\n",
       "        [ 70,  57,  63],\n",
       "        [ 72,  59,  65],\n",
       "        [135, 120, 127]]], dtype=uint8)"
      ]
     },
     "execution_count": 6,
     "metadata": {},
     "output_type": "execute_result"
    }
   ],
   "source": [
    "photo"
   ]
  },
  {
   "cell_type": "code",
   "execution_count": 7,
   "id": "16613f36",
   "metadata": {},
   "outputs": [],
   "source": [
    "cv2.imshow('hi',photo)"
   ]
  },
  {
   "cell_type": "code",
   "execution_count": 8,
   "id": "38073a4a",
   "metadata": {},
   "outputs": [
    {
     "ename": "AttributeError",
     "evalue": "module 'cv2' has no attribute 'waitkey'",
     "output_type": "error",
     "traceback": [
      "\u001b[1;31m----------------------------------------------------------\u001b[0m",
      "\u001b[1;31mAttributeError\u001b[0m           Traceback (most recent call last)",
      "\u001b[1;32m~\\AppData\\Local\\Temp/ipykernel_8604/3001523753.py\u001b[0m in \u001b[0;36m<module>\u001b[1;34m\u001b[0m\n\u001b[1;32m----> 1\u001b[1;33m \u001b[0mcv2\u001b[0m\u001b[1;33m.\u001b[0m\u001b[0mwaitkey\u001b[0m\u001b[1;33m(\u001b[0m\u001b[1;33m)\u001b[0m\u001b[1;33m\u001b[0m\u001b[1;33m\u001b[0m\u001b[0m\n\u001b[0m",
      "\u001b[1;31mAttributeError\u001b[0m: module 'cv2' has no attribute 'waitkey'"
     ]
    }
   ],
   "source": [
    "cv2.waitkey()"
   ]
  },
  {
   "cell_type": "code",
   "execution_count": 9,
   "id": "584c3a47",
   "metadata": {},
   "outputs": [],
   "source": [
    "cv2.destroyAllWindows()"
   ]
  },
  {
   "cell_type": "code",
   "execution_count": 10,
   "id": "716dc940",
   "metadata": {},
   "outputs": [
    {
     "ename": "SystemError",
     "evalue": "<class 'cv2.CascadeClassifier'> returned a result with an error set",
     "output_type": "error",
     "traceback": [
      "\u001b[1;31m----------------------------------------------------------\u001b[0m",
      "\u001b[1;31merror\u001b[0m                    Traceback (most recent call last)",
      "\u001b[1;31merror\u001b[0m: OpenCV(4.6.0) D:\\a\\opencv-python\\opencv-python\\opencv\\modules\\core\\src\\persistence.cpp:692: error: (-5:Bad argument) Input file is invalid in function 'cv::FileStorage::Impl::open'\n",
      "\nThe above exception was the direct cause of the following exception:\n",
      "\u001b[1;31mSystemError\u001b[0m              Traceback (most recent call last)",
      "\u001b[1;32m~\\AppData\\Local\\Temp/ipykernel_8604/3859465820.py\u001b[0m in \u001b[0;36m<module>\u001b[1;34m\u001b[0m\n\u001b[1;32m----> 1\u001b[1;33m \u001b[0mmodel\u001b[0m \u001b[1;33m=\u001b[0m \u001b[0mcv2\u001b[0m\u001b[1;33m.\u001b[0m\u001b[0mCascadeClassifier\u001b[0m\u001b[1;33m(\u001b[0m\u001b[1;34m'haarcascade_frontalface_default.xml'\u001b[0m\u001b[1;33m)\u001b[0m\u001b[1;33m\u001b[0m\u001b[1;33m\u001b[0m\u001b[0m\n\u001b[0m",
      "\u001b[1;31mSystemError\u001b[0m: <class 'cv2.CascadeClassifier'> returned a result with an error set"
     ]
    }
   ],
   "source": [
    "model = cv2.CascadeClassifier('haarcascade_frontalface_default.xml')"
   ]
  },
  {
   "cell_type": "code",
   "execution_count": null,
   "id": "5808bc35",
   "metadata": {},
   "outputs": [],
   "source": []
  }
 ],
 "metadata": {
  "kernelspec": {
   "display_name": "Python 3 (ipykernel)",
   "language": "python",
   "name": "python3"
  },
  "language_info": {
   "codemirror_mode": {
    "name": "ipython",
    "version": 3
   },
   "file_extension": ".py",
   "mimetype": "text/x-python",
   "name": "python",
   "nbconvert_exporter": "python",
   "pygments_lexer": "ipython3",
   "version": "3.9.7"
  }
 },
 "nbformat": 4,
 "nbformat_minor": 5
}
