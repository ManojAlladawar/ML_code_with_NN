{
 "cells": [
  {
   "cell_type": "code",
   "execution_count": null,
   "id": "642bf4ed",
   "metadata": {},
   "outputs": [],
   "source": [
    "from keras.datasets import mnist"
   ]
  },
  {
   "cell_type": "code",
   "execution_count": null,
   "id": "d1342e69",
   "metadata": {},
   "outputs": [],
   "source": [
    "dataset = mnist.load_data('mnist.db')"
   ]
  },
  {
   "cell_type": "code",
   "execution_count": null,
   "id": "4fa1622b",
   "metadata": {},
   "outputs": [],
   "source": [
    "train , test = dataset"
   ]
  },
  {
   "cell_type": "code",
   "execution_count": null,
   "id": "ae906106",
   "metadata": {},
   "outputs": [],
   "source": [
    "len(train)"
   ]
  },
  {
   "cell_type": "code",
   "execution_count": null,
   "id": "705c9324",
   "metadata": {},
   "outputs": [],
   "source": [
    "X_train, y_train = train"
   ]
  },
  {
   "cell_type": "code",
   "execution_count": null,
   "id": "01f23de0",
   "metadata": {},
   "outputs": [],
   "source": [
    "X_test, y_test = test"
   ]
  },
  {
   "cell_type": "code",
   "execution_count": null,
   "id": "a2b5ddb5",
   "metadata": {},
   "outputs": [],
   "source": [
    "X_train[0].shape"
   ]
  },
  {
   "cell_type": "code",
   "execution_count": null,
   "id": "fd582638",
   "metadata": {},
   "outputs": [],
   "source": [
    "img = X_train[0]"
   ]
  },
  {
   "cell_type": "code",
   "execution_count": null,
   "id": "c1606c3e",
   "metadata": {},
   "outputs": [],
   "source": [
    "plt.imshow(img, cmap='gray')"
   ]
  },
  {
   "cell_type": "code",
   "execution_count": null,
   "id": "c7c50fc5",
   "metadata": {},
   "outputs": [],
   "source": [
    "#reshape tht image size to one d\n",
    "from keras.layers import Sequential\n",
    "from keras.layers import Dense\n",
    "\n",
    "model.add(\n",
    "Dense(units = 1024, activation=\"relu\")\n",
    ")\n",
    "model.add(\n",
    "Dense(units = 512, activation=\"relu\")\n",
    ")\n",
    "model.add(\n",
    "Dense(units = 256, activation=\"relu\")\n",
    ")\n",
    "model.add(\n",
    "Dense(units = 128, activation=\"relu\")\n",
    ")\n",
    "model.summary()\n",
    "#compile the model using softmax\n",
    "model.compile(optimizer=\"adam\",\n",
    "             loss = 'categorical_crossentropy',\n",
    "              metrics= ['Accuracy']\n",
    "             )\n",
    "\n",
    "# from keras.optimizers import rmsprop_v2\n",
    "model.fit(X_train, y_train_cat, epochs=10)\n"
   ]
  }
 ],
 "metadata": {
  "kernelspec": {
   "display_name": "Python 3 (ipykernel)",
   "language": "python",
   "name": "python3"
  },
  "language_info": {
   "codemirror_mode": {
    "name": "ipython",
    "version": 3
   },
   "file_extension": ".py",
   "mimetype": "text/x-python",
   "name": "python",
   "nbconvert_exporter": "python",
   "pygments_lexer": "ipython3",
   "version": "3.9.7"
  }
 },
 "nbformat": 4,
 "nbformat_minor": 5
}
