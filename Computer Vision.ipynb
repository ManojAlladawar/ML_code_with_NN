{
 "cells": [
  {
   "cell_type": "code",
   "execution_count": 3,
   "id": "0cb79546",
   "metadata": {},
   "outputs": [],
   "source": [
    "import cv2"
   ]
  },
  {
   "cell_type": "code",
   "execution_count": 7,
   "id": "7666d364",
   "metadata": {},
   "outputs": [],
   "source": [
    "cap = cv2.VideoCapture(0)\n",
    "myphoto = cap.read()\n",
    "cap = cv2.VideoCapture(1)"
   ]
  },
  {
   "cell_type": "code",
   "execution_count": 9,
   "id": "6317086e",
   "metadata": {},
   "outputs": [
    {
     "data": {
      "text/plain": [
       "(True,\n",
       " array([[[198, 184, 178],\n",
       "         [198, 184, 178],\n",
       "         [199, 185, 179],\n",
       "         ...,\n",
       "         [211, 200, 196],\n",
       "         [216, 205, 201],\n",
       "         [219, 208, 204]],\n",
       " \n",
       "        [[198, 184, 178],\n",
       "         [198, 184, 178],\n",
       "         [199, 185, 179],\n",
       "         ...,\n",
       "         [212, 201, 196],\n",
       "         [216, 205, 201],\n",
       "         [220, 209, 205]],\n",
       " \n",
       "        [[198, 184, 178],\n",
       "         [198, 184, 178],\n",
       "         [199, 185, 179],\n",
       "         ...,\n",
       "         [212, 201, 196],\n",
       "         [217, 206, 202],\n",
       "         [221, 210, 206]],\n",
       " \n",
       "        ...,\n",
       " \n",
       "        [[ 50,  27,  31],\n",
       "         [ 53,  29,  33],\n",
       "         [ 56,  30,  34],\n",
       "         ...,\n",
       "         [ 87,  55,  67],\n",
       "         [ 90,  59,  71],\n",
       "         [ 72,  42,  55]],\n",
       " \n",
       "        [[ 54,  31,  35],\n",
       "         [ 56,  32,  36],\n",
       "         [ 59,  33,  37],\n",
       "         ...,\n",
       "         [ 66,  42,  53],\n",
       "         [ 80,  57,  68],\n",
       "         [ 67,  45,  57]],\n",
       " \n",
       "        [[ 57,  34,  38],\n",
       "         [ 59,  35,  39],\n",
       "         [ 62,  36,  40],\n",
       "         ...,\n",
       "         [ 68,  49,  59],\n",
       "         [ 79,  61,  71],\n",
       "         [ 64,  46,  57]]], dtype=uint8))"
      ]
     },
     "execution_count": 9,
     "metadata": {},
     "output_type": "execute_result"
    }
   ],
   "source": [
    "myphoto"
   ]
  },
  {
   "cell_type": "code",
   "execution_count": 10,
   "id": "a7cf6510",
   "metadata": {},
   "outputs": [
    {
     "data": {
      "text/plain": [
       "2"
      ]
     },
     "execution_count": 10,
     "metadata": {},
     "output_type": "execute_result"
    }
   ],
   "source": [
    "len(myphoto)"
   ]
  },
  {
   "cell_type": "code",
   "execution_count": 14,
   "id": "f68ee96f",
   "metadata": {},
   "outputs": [],
   "source": [
    "\n",
    "photo = cv2.imread('logo.png')"
   ]
  },
  {
   "cell_type": "code",
   "execution_count": 20,
   "id": "77975df7",
   "metadata": {},
   "outputs": [
    {
     "data": {
      "text/plain": [
       "numpy.ndarray"
      ]
     },
     "execution_count": 20,
     "metadata": {},
     "output_type": "execute_result"
    }
   ],
   "source": [
    "type(photo)"
   ]
  },
  {
   "cell_type": "code",
   "execution_count": 21,
   "id": "4b30e246",
   "metadata": {},
   "outputs": [
    {
     "data": {
      "text/plain": [
       "(400, 2000, 3)"
      ]
     },
     "execution_count": 21,
     "metadata": {},
     "output_type": "execute_result"
    }
   ],
   "source": [
    "photo.shape"
   ]
  },
  {
   "cell_type": "code",
   "execution_count": 22,
   "id": "7f4323cd",
   "metadata": {},
   "outputs": [],
   "source": [
    "b = photo[200:350,1000:1500]"
   ]
  },
  {
   "cell_type": "code",
   "execution_count": 23,
   "id": "cf53ff2c",
   "metadata": {},
   "outputs": [
    {
     "data": {
      "text/plain": [
       "array([[[37,  8,  3],\n",
       "        [52, 21, 18],\n",
       "        [39,  9,  4],\n",
       "        ...,\n",
       "        [42, 11,  8],\n",
       "        [39,  9,  4],\n",
       "        [42, 11,  8]],\n",
       "\n",
       "       [[37,  8,  3],\n",
       "        [48, 18, 15],\n",
       "        [37,  8,  3],\n",
       "        ...,\n",
       "        [37,  8,  3],\n",
       "        [39,  9,  4],\n",
       "        [37,  8,  3]],\n",
       "\n",
       "       [[39,  9,  4],\n",
       "        [39,  9,  4],\n",
       "        [37,  8,  3],\n",
       "        ...,\n",
       "        [42, 11,  8],\n",
       "        [42, 11,  8],\n",
       "        [39,  9,  4]],\n",
       "\n",
       "       ...,\n",
       "\n",
       "       [[26, 26, 27],\n",
       "        [33, 31, 34],\n",
       "        [26, 26, 27],\n",
       "        ...,\n",
       "        [39,  9,  4],\n",
       "        [39,  9,  4],\n",
       "        [39,  9,  4]],\n",
       "\n",
       "       [[33, 31, 34],\n",
       "        [26, 26, 27],\n",
       "        [26, 26, 27],\n",
       "        ...,\n",
       "        [39,  9,  4],\n",
       "        [39,  9,  4],\n",
       "        [39,  9,  4]],\n",
       "\n",
       "       [[26, 26, 27],\n",
       "        [33, 31, 34],\n",
       "        [26, 26, 27],\n",
       "        ...,\n",
       "        [39,  9,  4],\n",
       "        [39,  9,  4],\n",
       "        [39,  9,  4]]], dtype=uint8)"
      ]
     },
     "execution_count": 23,
     "metadata": {},
     "output_type": "execute_result"
    }
   ],
   "source": [
    "b"
   ]
  },
  {
   "cell_type": "code",
   "execution_count": 24,
   "id": "61c4dc0f",
   "metadata": {},
   "outputs": [
    {
     "data": {
      "text/plain": [
       "True"
      ]
     },
     "execution_count": 24,
     "metadata": {},
     "output_type": "execute_result"
    }
   ],
   "source": [
    "cv2.imwrite(\"my.jpg\",b)"
   ]
  },
  {
   "cell_type": "code",
   "execution_count": 25,
   "id": "28a0ebcf",
   "metadata": {},
   "outputs": [],
   "source": [
    "cap = cv2.VideoCapture(0)"
   ]
  },
  {
   "cell_type": "code",
   "execution_count": null,
   "id": "2aea72ba",
   "metadata": {},
   "outputs": [],
   "source": []
  }
 ],
 "metadata": {
  "kernelspec": {
   "display_name": "Python 3 (ipykernel)",
   "language": "python",
   "name": "python3"
  },
  "language_info": {
   "codemirror_mode": {
    "name": "ipython",
    "version": 3
   },
   "file_extension": ".py",
   "mimetype": "text/x-python",
   "name": "python",
   "nbconvert_exporter": "python",
   "pygments_lexer": "ipython3",
   "version": "3.9.7"
  }
 },
 "nbformat": 4,
 "nbformat_minor": 5
}
