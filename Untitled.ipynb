{
 "cells": [
  {
   "cell_type": "code",
   "execution_count": 1,
   "id": "4e3b39c4",
   "metadata": {},
   "outputs": [],
   "source": [
    "#we are goint to train model in KNN"
   ]
  },
  {
   "cell_type": "code",
   "execution_count": 2,
   "id": "498c514c",
   "metadata": {},
   "outputs": [],
   "source": [
    "#lazy learning algorithms\n"
   ]
  },
  {
   "cell_type": "code",
   "execution_count": null,
   "id": "11e12717",
   "metadata": {},
   "outputs": [],
   "source": [
    "import pandas as pd\n",
    "dataset = pd.read_csv('Social_network_ads.csv')\n",
    "dataset.info()\n",
    "dataset.columns\n",
    "X = dataset[['Age', 'EstimatedSalary']]\n",
    "y = dataset['Purchased']\n"
   ]
  },
  {
   "cell_type": "code",
   "execution_count": null,
   "id": "7c6adf2d",
   "metadata": {},
   "outputs": [],
   "source": [
    "import matplotlib.pyplot as plt\n",
    "import seaborn as sns\n",
    "sns.scatterplot(data=dataset , x='Age', y='EstimatedSalary' , \n",
    "                hue='Purchased')\n"
   ]
  },
  {
   "cell_type": "code",
   "execution_count": null,
   "id": "daa464a7",
   "metadata": {},
   "outputs": [],
   "source": []
  }
 ],
 "metadata": {
  "kernelspec": {
   "display_name": "Python 3 (ipykernel)",
   "language": "python",
   "name": "python3"
  },
  "language_info": {
   "codemirror_mode": {
    "name": "ipython",
    "version": 3
   },
   "file_extension": ".py",
   "mimetype": "text/x-python",
   "name": "python",
   "nbconvert_exporter": "python",
   "pygments_lexer": "ipython3",
   "version": "3.9.7"
  }
 },
 "nbformat": 4,
 "nbformat_minor": 5
}
