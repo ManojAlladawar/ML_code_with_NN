{
 "cells": [
  {
   "cell_type": "code",
   "execution_count": 1,
   "id": "e3404d1f",
   "metadata": {},
   "outputs": [],
   "source": [
    "import numpy as np\n",
    "import cv2"
   ]
  },
  {
   "cell_type": "code",
   "execution_count": 16,
   "id": "3c1668bc",
   "metadata": {},
   "outputs": [],
   "source": [
    "k = np.ones((3,3)) / 25"
   ]
  },
  {
   "cell_type": "code",
   "execution_count": 17,
   "id": "8c15a600",
   "metadata": {},
   "outputs": [
    {
     "data": {
      "text/plain": [
       "array([[0.04, 0.04, 0.04],\n",
       "       [0.04, 0.04, 0.04],\n",
       "       [0.04, 0.04, 0.04]])"
      ]
     },
     "execution_count": 17,
     "metadata": {},
     "output_type": "execute_result"
    }
   ],
   "source": [
    "k"
   ]
  },
  {
   "cell_type": "code",
   "execution_count": 4,
   "id": "c4aa61c4",
   "metadata": {},
   "outputs": [],
   "source": [
    "cap=cv2.VideoCapture(0)"
   ]
  },
  {
   "cell_type": "code",
   "execution_count": 5,
   "id": "bc8c910c",
   "metadata": {},
   "outputs": [],
   "source": [
    "ret, photo = cap.read()"
   ]
  },
  {
   "cell_type": "code",
   "execution_count": 6,
   "id": "6118ae4a",
   "metadata": {},
   "outputs": [
    {
     "data": {
      "text/plain": [
       "array([[[ 72,  84,  95],\n",
       "        [ 69,  81,  92],\n",
       "        [ 54,  67,  76],\n",
       "        ...,\n",
       "        [ 67,  90,  89],\n",
       "        [ 67,  89,  87],\n",
       "        [ 66,  89,  85]],\n",
       "\n",
       "       [[ 91, 104, 113],\n",
       "        [ 78,  91,  99],\n",
       "        [ 57,  70,  78],\n",
       "        ...,\n",
       "        [ 69,  92,  91],\n",
       "        [ 68,  90,  88],\n",
       "        [ 68,  91,  87]],\n",
       "\n",
       "       [[118, 132, 137],\n",
       "        [ 91, 106, 109],\n",
       "        [ 61,  76,  79],\n",
       "        ...,\n",
       "        [ 71,  93,  92],\n",
       "        [ 70,  91,  89],\n",
       "        [ 69,  91,  87]],\n",
       "\n",
       "       ...,\n",
       "\n",
       "       [[ 88,  97, 114],\n",
       "        [ 88,  97, 114],\n",
       "        [ 88,  97, 114],\n",
       "        ...,\n",
       "        [ 96,  84,  76],\n",
       "        [103,  90,  82],\n",
       "        [146, 132, 124]],\n",
       "\n",
       "       [[ 93,  98, 117],\n",
       "        [ 93,  98, 117],\n",
       "        [ 93,  98, 117],\n",
       "        ...,\n",
       "        [ 94,  82,  74],\n",
       "        [ 97,  84,  76],\n",
       "        [138, 124, 116]],\n",
       "\n",
       "       [[ 96,  97, 120],\n",
       "        [ 96,  97, 120],\n",
       "        [ 97,  98, 121],\n",
       "        ...,\n",
       "        [ 91,  80,  72],\n",
       "        [ 91,  79,  71],\n",
       "        [131, 117, 109]]], dtype=uint8)"
      ]
     },
     "execution_count": 6,
     "metadata": {},
     "output_type": "execute_result"
    }
   ],
   "source": [
    "photo"
   ]
  },
  {
   "cell_type": "code",
   "execution_count": 7,
   "id": "86f0634a",
   "metadata": {},
   "outputs": [],
   "source": [
    "cap.release()"
   ]
  },
  {
   "cell_type": "code",
   "execution_count": 9,
   "id": "fcfe6bf9",
   "metadata": {},
   "outputs": [],
   "source": [
    "cv2.imshow('hi', photo)"
   ]
  },
  {
   "cell_type": "code",
   "execution_count": 10,
   "id": "47faea28",
   "metadata": {},
   "outputs": [],
   "source": [
    "cv2.destroyAllWindows()"
   ]
  },
  {
   "cell_type": "code",
   "execution_count": 19,
   "id": "1c3543b6",
   "metadata": {},
   "outputs": [],
   "source": [
    "nphoto = cv2.filter2D(photo, ddepth = -1, kernel = k)"
   ]
  },
  {
   "cell_type": "code",
   "execution_count": 22,
   "id": "996a9ffd",
   "metadata": {},
   "outputs": [],
   "source": [
    "cv2.imshow(\"hi\",nphoto)\n",
    "cv2.waitKey()\n",
    "cv2.destroyAllWindows()"
   ]
  },
  {
   "cell_type": "code",
   "execution_count": null,
   "id": "a10c09f7",
   "metadata": {},
   "outputs": [],
   "source": [
    "while True:\n",
    "    ret, photo = cap.read()\n",
    "    nphoto = cv2.filter2D(photo, ddepth = -1, kernel = k)\n",
    "    cv2.imshow(\"hi\",nphoto)\n",
    "    if cv2.waitKey(100) == 13:\n",
    "        \n",
    "cv2.destroyAllWindows()"
   ]
  }
 ],
 "metadata": {
  "kernelspec": {
   "display_name": "Python 3 (ipykernel)",
   "language": "python",
   "name": "python3"
  },
  "language_info": {
   "codemirror_mode": {
    "name": "ipython",
    "version": 3
   },
   "file_extension": ".py",
   "mimetype": "text/x-python",
   "name": "python",
   "nbconvert_exporter": "python",
   "pygments_lexer": "ipython3",
   "version": "3.9.7"
  }
 },
 "nbformat": 4,
 "nbformat_minor": 5
}
